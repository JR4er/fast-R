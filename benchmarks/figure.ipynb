{
  "cells": [
    {
      "cell_type": "code",
      "source": [
        "library('ggplot2')\n",
        "library('latex2exp')"
      ],
      "outputs": [],
      "execution_count": 35,
      "metadata": {
        "collapsed": false,
        "outputHidden": false,
        "inputHidden": false
      }
    },
    {
      "cell_type": "code",
      "source": [
        "fix_n <- read.csv('fix_n.csv')\n",
        "HDA = subset(fix_n, attack == 'HDA')\n",
        "RA = subset(fix_n, attack == 'RA')"
      ],
      "outputs": [],
      "execution_count": 86,
      "metadata": {
        "collapsed": false,
        "outputHidden": false,
        "inputHidden": false
      }
    },
    {
      "cell_type": "code",
      "source": [
        "ggplot(HDA,aes(x=k,y=time,color=model))+geom_smooth(method = 'lm')+geom_point(aes(shape=model))+theme_light()+theme(aspect.ratio = 1)+theme(legend.position = c(0.1,0.9))+theme(text = element_text(family=\"serif\"))+ylab('Elapsed time (ms)')+xlab(TeX('Average degree $k$'))+ylim(0,15)"
      ],
      "outputs": [],
      "execution_count": 91,
      "metadata": {
        "collapsed": false,
        "outputHidden": false,
        "inputHidden": false
      }
    },
    {
      "cell_type": "code",
      "source": [
        "ggsave('fix_n_HDA.png')"
      ],
      "outputs": [],
      "execution_count": 92,
      "metadata": {
        "collapsed": false,
        "outputHidden": false,
        "inputHidden": false
      }
    },
    {
      "cell_type": "code",
      "source": [
        "ggplot(RA,aes(x=k,y=time,color=model))+geom_smooth(method = 'lm')+geom_point(aes(shape=model))+theme_light()+theme(aspect.ratio = 1)+theme(legend.position = c(0.1,0.9))+theme(text = element_text(family=\"serif\"))+ylab('Elapsed time (ms)')+xlab(TeX('Average degree $k$'))+ylim(0,15)"
      ],
      "outputs": [],
      "execution_count": 93,
      "metadata": {
        "collapsed": false,
        "outputHidden": false,
        "inputHidden": false
      }
    },
    {
      "cell_type": "code",
      "source": [
        "ggsave('fix_n_RA.png')"
      ],
      "outputs": [],
      "execution_count": 94,
      "metadata": {
        "collapsed": false,
        "outputHidden": false,
        "inputHidden": false
      }
    },
    {
      "cell_type": "code",
      "source": [
        "fix_k = read.csv('fix_k.csv')\n",
        "HDA = subset(fix_k, attack == 'HDA')\n",
        "RA = subset(fix_k, attack == 'RA')"
      ],
      "outputs": [],
      "execution_count": 98,
      "metadata": {
        "collapsed": false,
        "outputHidden": false,
        "inputHidden": false
      }
    },
    {
      "cell_type": "code",
      "source": [
        "ggplot(HDA,aes(x=n,y=time,color=model))+geom_smooth(method = 'lm')+geom_point(aes(shape=model))+theme_light()+theme(aspect.ratio = 1)+theme(legend.position = c(0.1,0.9))+theme(text = element_text(family=\"serif\"))+ylab('Elapsed time (ms)')+xlab(TeX('number of nodes $n$'))"
      ],
      "outputs": [],
      "execution_count": 109,
      "metadata": {
        "collapsed": false,
        "outputHidden": false,
        "inputHidden": false
      }
    },
    {
      "cell_type": "code",
      "source": [
        "ggsave('fix_k_HDA.png')"
      ],
      "outputs": [],
      "execution_count": 110,
      "metadata": {
        "collapsed": false,
        "outputHidden": false,
        "inputHidden": false
      }
    },
    {
      "cell_type": "code",
      "source": [
        "ggplot(RA,aes(x=n,y=time,color=model))+geom_smooth(method = 'lm')+geom_point(aes(shape=model))+theme_light()+theme(aspect.ratio = 1)+theme(legend.position = c(0.1,0.9))+theme(text = element_text(family=\"serif\"))+ylab('Elapsed time (ms)')+xlab(TeX('Average degree $k$'))"
      ],
      "outputs": [],
      "execution_count": 112,
      "metadata": {
        "collapsed": false,
        "outputHidden": false,
        "inputHidden": false
      }
    },
    {
      "cell_type": "code",
      "source": [
        "ggsave('fix_k_RA.png')"
      ],
      "outputs": [],
      "execution_count": 113,
      "metadata": {
        "collapsed": false,
        "outputHidden": false,
        "inputHidden": false
      }
    }
  ],
  "metadata": {
    "kernelspec": {
      "name": "ir",
      "language": "R",
      "display_name": "R"
    },
    "kernel_info": {
      "name": "ir"
    },
    "language_info": {
      "name": "R",
      "codemirror_mode": "r",
      "pygments_lexer": "r",
      "mimetype": "text/x-r-source",
      "file_extension": ".r",
      "version": "3.4.2"
    },
    "nteract": {
      "version": "0.2.0"
    }
  },
  "nbformat": 4,
  "nbformat_minor": 4
}